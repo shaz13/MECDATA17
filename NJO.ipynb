{
 "cells": [
  {
   "cell_type": "markdown",
   "metadata": {},
   "source": [
    "# SERVER REPORT ADMISSION 2017 REP STUDY - JNTUHCEJ\n",
    " ### Copyrighted - Mohammad Shahebaz"
   ]
  },
  {
   "cell_type": "code",
   "execution_count": 31,
   "metadata": {},
   "outputs": [],
   "source": [
    "import pandas as pd\n",
    "import numpy as np\n",
    "import matplotlib.pyplot as plt\n",
    "%matplotlib inline\n",
    "import seaborn as sns\n",
    "sns.set_style(\"whitegrid\")"
   ]
  },
  {
   "cell_type": "code",
   "execution_count": 32,
   "metadata": {},
   "outputs": [],
   "source": [
    "data = pd.read_csv('najeed.csv')"
   ]
  },
  {
   "cell_type": "code",
   "execution_count": 33,
   "metadata": {},
   "outputs": [
    {
     "data": {
      "text/html": [
       "<div>\n",
       "<style>\n",
       "    .dataframe thead tr:only-child th {\n",
       "        text-align: right;\n",
       "    }\n",
       "\n",
       "    .dataframe thead th {\n",
       "        text-align: left;\n",
       "    }\n",
       "\n",
       "    .dataframe tbody tr th {\n",
       "        vertical-align: top;\n",
       "    }\n",
       "</style>\n",
       "<table border=\"1\" class=\"dataframe\">\n",
       "  <thead>\n",
       "    <tr style=\"text-align: right;\">\n",
       "      <th></th>\n",
       "      <th>Rank</th>\n",
       "      <th>Name of the Candidate</th>\n",
       "      <th>Sex</th>\n",
       "      <th>Caste</th>\n",
       "      <th>Region</th>\n",
       "      <th>Seat Category</th>\n",
       "    </tr>\n",
       "  </thead>\n",
       "  <tbody>\n",
       "    <tr>\n",
       "      <th>0</th>\n",
       "      <td>11979</td>\n",
       "      <td>BHUKYA VIJAY</td>\n",
       "      <td>M</td>\n",
       "      <td>ST</td>\n",
       "      <td>OU</td>\n",
       "      <td>ST_GEN_OU</td>\n",
       "    </tr>\n",
       "    <tr>\n",
       "      <th>1</th>\n",
       "      <td>15240</td>\n",
       "      <td>MOHAMMED PARVEZ BAIG</td>\n",
       "      <td>M</td>\n",
       "      <td>BC_E</td>\n",
       "      <td>OU</td>\n",
       "      <td>BC_E_GEN_OU</td>\n",
       "    </tr>\n",
       "    <tr>\n",
       "      <th>2</th>\n",
       "      <td>13598</td>\n",
       "      <td>SRUJANA ALLI</td>\n",
       "      <td>F</td>\n",
       "      <td>BC_D</td>\n",
       "      <td>OU</td>\n",
       "      <td>BC_D_GIRLS_OU</td>\n",
       "    </tr>\n",
       "    <tr>\n",
       "      <th>3</th>\n",
       "      <td>11449</td>\n",
       "      <td>DASARI SOUMITH</td>\n",
       "      <td>M</td>\n",
       "      <td>BC_D</td>\n",
       "      <td>OU</td>\n",
       "      <td>BC_D_GEN_OU</td>\n",
       "    </tr>\n",
       "    <tr>\n",
       "      <th>4</th>\n",
       "      <td>25380</td>\n",
       "      <td>CHIGIRI RASHINI</td>\n",
       "      <td>F</td>\n",
       "      <td>SC</td>\n",
       "      <td>OU</td>\n",
       "      <td>SC_GIRLS_UR</td>\n",
       "    </tr>\n",
       "    <tr>\n",
       "      <th>5</th>\n",
       "      <td>18933</td>\n",
       "      <td>KATTA SHASHI KUMAR</td>\n",
       "      <td>M</td>\n",
       "      <td>SC</td>\n",
       "      <td>OU</td>\n",
       "      <td>SC_GEN_OU</td>\n",
       "    </tr>\n",
       "    <tr>\n",
       "      <th>6</th>\n",
       "      <td>40778</td>\n",
       "      <td>Y SAI  TEJASWINI</td>\n",
       "      <td>F</td>\n",
       "      <td>SC</td>\n",
       "      <td>OU</td>\n",
       "      <td>SC_GIRLS_OU</td>\n",
       "    </tr>\n",
       "    <tr>\n",
       "      <th>7</th>\n",
       "      <td>72419</td>\n",
       "      <td>ABHIJIT SAPPIDI</td>\n",
       "      <td>M</td>\n",
       "      <td>BC_C</td>\n",
       "      <td>OU</td>\n",
       "      <td>BC_C_GEN_OU</td>\n",
       "    </tr>\n",
       "    <tr>\n",
       "      <th>8</th>\n",
       "      <td>16981</td>\n",
       "      <td>HARSH S M</td>\n",
       "      <td>M</td>\n",
       "      <td>SC</td>\n",
       "      <td>OU</td>\n",
       "      <td>SC_GEN_OU</td>\n",
       "    </tr>\n",
       "    <tr>\n",
       "      <th>9</th>\n",
       "      <td>8434</td>\n",
       "      <td>YERNENI PAVAN KUMAR</td>\n",
       "      <td>M</td>\n",
       "      <td>OC</td>\n",
       "      <td>OU</td>\n",
       "      <td>OC_GEN_OU</td>\n",
       "    </tr>\n",
       "    <tr>\n",
       "      <th>10</th>\n",
       "      <td>10517</td>\n",
       "      <td>PATHIPAKA GOPI KRISHNA</td>\n",
       "      <td>M</td>\n",
       "      <td>BC_B</td>\n",
       "      <td>OU</td>\n",
       "      <td>BC_B_GEN_OU</td>\n",
       "    </tr>\n",
       "    <tr>\n",
       "      <th>11</th>\n",
       "      <td>15815</td>\n",
       "      <td>VAILE VISHWAVINAY</td>\n",
       "      <td>M</td>\n",
       "      <td>BC_A</td>\n",
       "      <td>OU</td>\n",
       "      <td>BC_A_GEN_OU</td>\n",
       "    </tr>\n",
       "    <tr>\n",
       "      <th>12</th>\n",
       "      <td>38299</td>\n",
       "      <td>MYAKA SRUTHI</td>\n",
       "      <td>F</td>\n",
       "      <td>SC</td>\n",
       "      <td>OU</td>\n",
       "      <td>SC_GIRLS_OU</td>\n",
       "    </tr>\n",
       "    <tr>\n",
       "      <th>13</th>\n",
       "      <td>14161</td>\n",
       "      <td>KOLIPAKA SUSHMA</td>\n",
       "      <td>F</td>\n",
       "      <td>BC_D</td>\n",
       "      <td>OU</td>\n",
       "      <td>BC_D_GIRLS_OU</td>\n",
       "    </tr>\n",
       "    <tr>\n",
       "      <th>14</th>\n",
       "      <td>13493</td>\n",
       "      <td>BOMMAGANI PRATHYUSHA</td>\n",
       "      <td>F</td>\n",
       "      <td>BC_B</td>\n",
       "      <td>OU</td>\n",
       "      <td>BC_B_GIRLS_OU</td>\n",
       "    </tr>\n",
       "    <tr>\n",
       "      <th>15</th>\n",
       "      <td>15922</td>\n",
       "      <td>MOHAMMAD NAJEED OSMANI</td>\n",
       "      <td>M</td>\n",
       "      <td>BC_E</td>\n",
       "      <td>OU</td>\n",
       "      <td>BC_E_GEN_OU</td>\n",
       "    </tr>\n",
       "    <tr>\n",
       "      <th>16</th>\n",
       "      <td>4010</td>\n",
       "      <td>SUNKARA SUMANTH</td>\n",
       "      <td>M</td>\n",
       "      <td>BC_D</td>\n",
       "      <td>OU</td>\n",
       "      <td>BC_D_GEN_UR</td>\n",
       "    </tr>\n",
       "    <tr>\n",
       "      <th>17</th>\n",
       "      <td>11189</td>\n",
       "      <td>PASUNOORI RAJKUMAR</td>\n",
       "      <td>M</td>\n",
       "      <td>BC_B</td>\n",
       "      <td>OU</td>\n",
       "      <td>BC_B_GEN_OU</td>\n",
       "    </tr>\n",
       "    <tr>\n",
       "      <th>18</th>\n",
       "      <td>9965</td>\n",
       "      <td>KADA SAIKUMAR</td>\n",
       "      <td>M</td>\n",
       "      <td>BC_D</td>\n",
       "      <td>OU</td>\n",
       "      <td>BC_D_GEN_OU</td>\n",
       "    </tr>\n",
       "    <tr>\n",
       "      <th>19</th>\n",
       "      <td>11830</td>\n",
       "      <td>BOGA ARUN KUMAR</td>\n",
       "      <td>M</td>\n",
       "      <td>BC_B</td>\n",
       "      <td>OU</td>\n",
       "      <td>BC_B_GEN_OU</td>\n",
       "    </tr>\n",
       "  </tbody>\n",
       "</table>\n",
       "</div>"
      ],
      "text/plain": [
       "     Rank   Name of the Candidate Sex Caste Region  Seat Category\n",
       "0   11979            BHUKYA VIJAY   M    ST     OU      ST_GEN_OU\n",
       "1   15240    MOHAMMED PARVEZ BAIG   M  BC_E     OU    BC_E_GEN_OU\n",
       "2   13598            SRUJANA ALLI   F  BC_D     OU  BC_D_GIRLS_OU\n",
       "3   11449          DASARI SOUMITH   M  BC_D     OU    BC_D_GEN_OU\n",
       "4   25380         CHIGIRI RASHINI   F    SC     OU    SC_GIRLS_UR\n",
       "5   18933      KATTA SHASHI KUMAR   M    SC     OU      SC_GEN_OU\n",
       "6   40778        Y SAI  TEJASWINI   F    SC     OU    SC_GIRLS_OU\n",
       "7   72419         ABHIJIT SAPPIDI   M  BC_C     OU    BC_C_GEN_OU\n",
       "8   16981               HARSH S M   M    SC     OU      SC_GEN_OU\n",
       "9    8434     YERNENI PAVAN KUMAR   M    OC     OU      OC_GEN_OU\n",
       "10  10517  PATHIPAKA GOPI KRISHNA   M  BC_B     OU    BC_B_GEN_OU\n",
       "11  15815       VAILE VISHWAVINAY   M  BC_A     OU    BC_A_GEN_OU\n",
       "12  38299            MYAKA SRUTHI   F    SC     OU    SC_GIRLS_OU\n",
       "13  14161         KOLIPAKA SUSHMA   F  BC_D     OU  BC_D_GIRLS_OU\n",
       "14  13493    BOMMAGANI PRATHYUSHA   F  BC_B     OU  BC_B_GIRLS_OU\n",
       "15  15922  MOHAMMAD NAJEED OSMANI   M  BC_E     OU    BC_E_GEN_OU\n",
       "16   4010         SUNKARA SUMANTH   M  BC_D     OU    BC_D_GEN_UR\n",
       "17  11189      PASUNOORI RAJKUMAR   M  BC_B     OU    BC_B_GEN_OU\n",
       "18   9965           KADA SAIKUMAR   M  BC_D     OU    BC_D_GEN_OU\n",
       "19  11830         BOGA ARUN KUMAR   M  BC_B     OU    BC_B_GEN_OU"
      ]
     },
     "execution_count": 33,
     "metadata": {},
     "output_type": "execute_result"
    }
   ],
   "source": [
    "data.head(20)"
   ]
  },
  {
   "cell_type": "code",
   "execution_count": 35,
   "metadata": {},
   "outputs": [
    {
     "data": {
      "text/plain": [
       "<matplotlib.axes._subplots.AxesSubplot at 0x7f079e492cd0>"
      ]
     },
     "execution_count": 35,
     "metadata": {},
     "output_type": "execute_result"
    },
    {
     "data": {
      "image/png": "[encoded data removed]",
      "text/plain": [
       "<matplotlib.figure.Figure at 0x7f079e492750>"
      ]
     },
     "metadata": {},
     "output_type": "display_data"
    }
   ],
   "source": [
    "lst = data['Name of the Candidate']\n",
    "plt.figure(figsize=(12,9))\n",
    "sns.distplot(data['Rank'], bins=5, color='green')"
   ]
  },
  {
   "cell_type": "code",
   "execution_count": 36,
   "metadata": {},
   "outputs": [
    {
     "data": {
      "text/plain": [
       "<matplotlib.axes._subplots.AxesSubplot at 0x7f079e429b10>"
      ]
     },
     "execution_count": 36,
     "metadata": {},
     "output_type": "execute_result"
    },
    {
     "data": {
      "image/png": "[encoded data removed]",
      "text/plain": [
       "<matplotlib.figure.Figure at 0x7f079e4e7510>"
      ]
     },
     "metadata": {},
     "output_type": "display_data"
    }
   ],
   "source": [
    "plt.figure(figsize=(12,9))\n",
    "sns.countplot(x='Caste', hue='Sex', data=data)"
   ]
  },
  {
   "cell_type": "code",
   "execution_count": 37,
   "metadata": {},
   "outputs": [
    {
     "data": {
      "text/plain": [
       "<matplotlib.axes._subplots.AxesSubplot at 0x7f079e51d550>"
      ]
     },
     "execution_count": 37,
     "metadata": {},
     "output_type": "execute_result"
    },
    {
     "data": {
      "image/png": "[encoded data removed]",
      "text/plain": [
       "<matplotlib.figure.Figure at 0x7f079e51dbd0>"
      ]
     },
     "metadata": {},
     "output_type": "display_data"
    }
   ],
   "source": [
    "plt.figure(figsize=(12,9))\n",
    "sns.barplot(x='Caste', y='Rank', data=data, hue='Sex')"
   ]
  },
  {
   "cell_type": "code",
   "execution_count": 43,
   "metadata": {},
   "outputs": [
    {
     "data": {
      "text/plain": [
       "<matplotlib.axes._subplots.AxesSubplot at 0x7f079e1dde10>"
      ]
     },
     "execution_count": 43,
     "metadata": {},
     "output_type": "execute_result"
    },
    {
     "data": {
      "image/png": "[encoded data removed]",
      "text/plain": [
       "<matplotlib.figure.Figure at 0x7f079e1ddd90>"
      ]
     },
     "metadata": {},
     "output_type": "display_data"
    }
   ],
   "source": [
    "plt.figure(figsize=(12,9))\n",
    "sns.barplot(x='Caste', y='Rank', data=data)"
   ]
  },
  {
   "cell_type": "code",
   "execution_count": 38,
   "metadata": {},
   "outputs": [],
   "source": [
    "rollnums = []\n",
    "for i in lst:\n",
    "    rollnums.append(i)"
   ]
  },
  {
   "cell_type": "code",
   "execution_count": 45,
   "metadata": {},
   "outputs": [
    {
     "data": {
      "text/plain": [
       "['ABHIJIT SAPPIDI',\n",
       " 'BHUKYA VIJAY',\n",
       " 'CHIGIRI RASHINI',\n",
       " 'DASARI SOUMITH',\n",
       " 'HARSH S M',\n",
       " 'KATTA SHASHI KUMAR',\n",
       " 'MOHAMMED PARVEZ BAIG',\n",
       " 'SRUJANA ALLI',\n",
       " 'Y SAI  TEJASWINI',\n",
       " 'YERNENI PAVAN KUMAR']"
      ]
     },
     "execution_count": 45,
     "metadata": {},
     "output_type": "execute_result"
    }
   ],
   "source": [
    "sorted(rollnums[:10])"
   ]
  },
  {
   "cell_type": "code",
   "execution_count": 47,
   "metadata": {},
   "outputs": [
    {
     "data": {
      "text/plain": [
       "36"
      ]
     },
     "execution_count": 47,
     "metadata": {},
     "output_type": "execute_result"
    }
   ],
   "source": [
    "sorted(rollnums).index('MOHAMMAD NAJEED OSMANI') + 1"
   ]
  },
  {
   "cell_type": "code",
   "execution_count": 41,
   "metadata": {
    "scrolled": true
   },
   "outputs": [
    {
     "data": {
      "text/html": [
       "<div>\n",
       "<style>\n",
       "    .dataframe thead tr:only-child th {\n",
       "        text-align: right;\n",
       "    }\n",
       "\n",
       "    .dataframe thead th {\n",
       "        text-align: left;\n",
       "    }\n",
       "\n",
       "    .dataframe tbody tr th {\n",
       "        vertical-align: top;\n",
       "    }\n",
       "</style>\n",
       "<table border=\"1\" class=\"dataframe\">\n",
       "  <thead>\n",
       "    <tr style=\"text-align: right;\">\n",
       "      <th></th>\n",
       "      <th>Rank</th>\n",
       "      <th>Name of the Candidate</th>\n",
       "      <th>Sex</th>\n",
       "      <th>Caste</th>\n",
       "      <th>Region</th>\n",
       "      <th>Seat Category</th>\n",
       "    </tr>\n",
       "  </thead>\n",
       "  <tbody>\n",
       "    <tr>\n",
       "      <th>57</th>\n",
       "      <td>2280</td>\n",
       "      <td>YEMPADA YUGESH</td>\n",
       "      <td>M</td>\n",
       "      <td>OC</td>\n",
       "      <td>AU</td>\n",
       "      <td>OC_GEN_UR</td>\n",
       "    </tr>\n",
       "    <tr>\n",
       "      <th>16</th>\n",
       "      <td>4010</td>\n",
       "      <td>SUNKARA SUMANTH</td>\n",
       "      <td>M</td>\n",
       "      <td>BC_D</td>\n",
       "      <td>OU</td>\n",
       "      <td>BC_D_GEN_UR</td>\n",
       "    </tr>\n",
       "    <tr>\n",
       "      <th>42</th>\n",
       "      <td>5010</td>\n",
       "      <td>NARIGE YESHWANTH</td>\n",
       "      <td>M</td>\n",
       "      <td>BC_B</td>\n",
       "      <td>OU</td>\n",
       "      <td>BC_B_GEN_UR</td>\n",
       "    </tr>\n",
       "    <tr>\n",
       "      <th>31</th>\n",
       "      <td>5620</td>\n",
       "      <td>CH BHANU PRAKASH</td>\n",
       "      <td>M</td>\n",
       "      <td>OC</td>\n",
       "      <td>OU</td>\n",
       "      <td>OC_GEN_OU</td>\n",
       "    </tr>\n",
       "    <tr>\n",
       "      <th>54</th>\n",
       "      <td>6245</td>\n",
       "      <td>VANGALA VENKATASAINAGAKUMAR</td>\n",
       "      <td>M</td>\n",
       "      <td>BC_B</td>\n",
       "      <td>OU</td>\n",
       "      <td>OC_GEN_OU</td>\n",
       "    </tr>\n",
       "    <tr>\n",
       "      <th>45</th>\n",
       "      <td>8258</td>\n",
       "      <td>BETHI SHASHI PREETHAM</td>\n",
       "      <td>M</td>\n",
       "      <td>BC_B</td>\n",
       "      <td>OU</td>\n",
       "      <td>OC_GEN_OU</td>\n",
       "    </tr>\n",
       "    <tr>\n",
       "      <th>9</th>\n",
       "      <td>8434</td>\n",
       "      <td>YERNENI PAVAN KUMAR</td>\n",
       "      <td>M</td>\n",
       "      <td>OC</td>\n",
       "      <td>OU</td>\n",
       "      <td>OC_GEN_OU</td>\n",
       "    </tr>\n",
       "    <tr>\n",
       "      <th>22</th>\n",
       "      <td>8844</td>\n",
       "      <td>SRIPATHI NAMRATHAA</td>\n",
       "      <td>F</td>\n",
       "      <td>BC_B</td>\n",
       "      <td>OU</td>\n",
       "      <td>BC_B_GIRLS_UR</td>\n",
       "    </tr>\n",
       "    <tr>\n",
       "      <th>59</th>\n",
       "      <td>9602</td>\n",
       "      <td>VANUM KARTHEEK</td>\n",
       "      <td>M</td>\n",
       "      <td>BC_B</td>\n",
       "      <td>OU</td>\n",
       "      <td>OC_GEN_OU</td>\n",
       "    </tr>\n",
       "    <tr>\n",
       "      <th>47</th>\n",
       "      <td>9936</td>\n",
       "      <td>JINUKALA RAGHINI</td>\n",
       "      <td>F</td>\n",
       "      <td>BC_D</td>\n",
       "      <td>OU</td>\n",
       "      <td>OC_GIRLS_OU</td>\n",
       "    </tr>\n",
       "    <tr>\n",
       "      <th>18</th>\n",
       "      <td>9965</td>\n",
       "      <td>KADA SAIKUMAR</td>\n",
       "      <td>M</td>\n",
       "      <td>BC_D</td>\n",
       "      <td>OU</td>\n",
       "      <td>BC_D_GEN_OU</td>\n",
       "    </tr>\n",
       "  </tbody>\n",
       "</table>\n",
       "</div>"
      ],
      "text/plain": [
       "    Rank        Name of the Candidate Sex Caste Region  Seat Category\n",
       "57  2280               YEMPADA YUGESH   M    OC     AU      OC_GEN_UR\n",
       "16  4010              SUNKARA SUMANTH   M  BC_D     OU    BC_D_GEN_UR\n",
       "42  5010             NARIGE YESHWANTH   M  BC_B     OU    BC_B_GEN_UR\n",
       "31  5620             CH BHANU PRAKASH   M    OC     OU      OC_GEN_OU\n",
       "54  6245  VANGALA VENKATASAINAGAKUMAR   M  BC_B     OU      OC_GEN_OU\n",
       "45  8258        BETHI SHASHI PREETHAM   M  BC_B     OU      OC_GEN_OU\n",
       "9   8434          YERNENI PAVAN KUMAR   M    OC     OU      OC_GEN_OU\n",
       "22  8844           SRIPATHI NAMRATHAA   F  BC_B     OU  BC_B_GIRLS_UR\n",
       "59  9602               VANUM KARTHEEK   M  BC_B     OU      OC_GEN_OU\n",
       "47  9936             JINUKALA RAGHINI   F  BC_D     OU    OC_GIRLS_OU\n",
       "18  9965                KADA SAIKUMAR   M  BC_D     OU    BC_D_GEN_OU"
      ]
     },
     "execution_count": 41,
     "metadata": {},
     "output_type": "execute_result"
    }
   ],
   "source": [
    "toppers = data[data['Rank']  < 10000]\n",
    "toppers.sort_values(axis =0 , by='Rank')"
   ]
  },
  {
   "cell_type": "code",
   "execution_count": 42,
   "metadata": {},
   "outputs": [
    {
     "data": {
      "text/html": [
       "<div>\n",
       "<style>\n",
       "    .dataframe thead tr:only-child th {\n",
       "        text-align: right;\n",
       "    }\n",
       "\n",
       "    .dataframe thead th {\n",
       "        text-align: left;\n",
       "    }\n",
       "\n",
       "    .dataframe tbody tr th {\n",
       "        vertical-align: top;\n",
       "    }\n",
       "</style>\n",
       "<table border=\"1\" class=\"dataframe\">\n",
       "  <thead>\n",
       "    <tr style=\"text-align: right;\">\n",
       "      <th></th>\n",
       "      <th>Rank</th>\n",
       "      <th>Name of the Candidate</th>\n",
       "      <th>Sex</th>\n",
       "      <th>Caste</th>\n",
       "      <th>Region</th>\n",
       "      <th>Seat Category</th>\n",
       "    </tr>\n",
       "  </thead>\n",
       "  <tbody>\n",
       "    <tr>\n",
       "      <th>1</th>\n",
       "      <td>15240</td>\n",
       "      <td>MOHAMMED PARVEZ BAIG</td>\n",
       "      <td>M</td>\n",
       "      <td>BC_E</td>\n",
       "      <td>OU</td>\n",
       "      <td>BC_E_GEN_OU</td>\n",
       "    </tr>\n",
       "    <tr>\n",
       "      <th>15</th>\n",
       "      <td>15922</td>\n",
       "      <td>MOHAMMAD NAJEED OSMANI</td>\n",
       "      <td>M</td>\n",
       "      <td>BC_E</td>\n",
       "      <td>OU</td>\n",
       "      <td>BC_E_GEN_OU</td>\n",
       "    </tr>\n",
       "    <tr>\n",
       "      <th>49</th>\n",
       "      <td>16086</td>\n",
       "      <td>MD AYESHA</td>\n",
       "      <td>F</td>\n",
       "      <td>BC_E</td>\n",
       "      <td>OU</td>\n",
       "      <td>BC_E_GIRLS_UR</td>\n",
       "    </tr>\n",
       "  </tbody>\n",
       "</table>\n",
       "</div>"
      ],
      "text/plain": [
       "     Rank   Name of the Candidate Sex Caste Region  Seat Category\n",
       "1   15240    MOHAMMED PARVEZ BAIG   M  BC_E     OU    BC_E_GEN_OU\n",
       "15  15922  MOHAMMAD NAJEED OSMANI   M  BC_E     OU    BC_E_GEN_OU\n",
       "49  16086               MD AYESHA   F  BC_E     OU  BC_E_GIRLS_UR"
      ]
     },
     "execution_count": 42,
     "metadata": {},
     "output_type": "execute_result"
    }
   ],
   "source": [
    "muslims = data[data['Caste'] == 'BC_E']\n",
    "muslims"
   ]
  }
 ],
 "metadata": {
  "kernelspec": {
   "display_name": "Python 2",
   "language": "python",
   "name": "python2"
  },
  "language_info": {
   "codemirror_mode": {
    "name": "ipython",
    "version": 2
   },
   "file_extension": ".py",
   "mimetype": "text/x-python",
   "name": "python",
   "nbconvert_exporter": "python",
   "pygments_lexer": "ipython2",
   "version": "2.7.13"
  }
 },
 "nbformat": 4,
 "nbformat_minor": 2
}
